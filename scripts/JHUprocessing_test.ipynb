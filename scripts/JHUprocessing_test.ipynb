{
 "cells": [
  {
   "cell_type": "markdown",
   "metadata": {},
   "source": [
    "# JHU covid-19 data processing \n",
    "\n",
    "Test and update functions for JHU data analysis"
   ]
  },
  {
   "cell_type": "code",
   "execution_count": 1,
   "metadata": {},
   "outputs": [],
   "source": [
    "import pandas as pd\n",
    "import JHUprocessing as jp"
   ]
  },
  {
   "cell_type": "markdown",
   "metadata": {},
   "source": [
    "# Use merge_data function"
   ]
  },
  {
   "cell_type": "code",
   "execution_count": 2,
   "metadata": {},
   "outputs": [
    {
     "data": {
      "text/html": [
       "<div>\n",
       "<style scoped>\n",
       "    .dataframe tbody tr th:only-of-type {\n",
       "        vertical-align: middle;\n",
       "    }\n",
       "\n",
       "    .dataframe tbody tr th {\n",
       "        vertical-align: top;\n",
       "    }\n",
       "\n",
       "    .dataframe thead th {\n",
       "        text-align: right;\n",
       "    }\n",
       "</style>\n",
       "<table border=\"1\" class=\"dataframe\">\n",
       "  <thead>\n",
       "    <tr style=\"text-align: right;\">\n",
       "      <th></th>\n",
       "      <th>Country/Region</th>\n",
       "      <th>Date</th>\n",
       "      <th>Confirmed</th>\n",
       "      <th>Death</th>\n",
       "      <th>Recovered</th>\n",
       "    </tr>\n",
       "  </thead>\n",
       "  <tbody>\n",
       "    <tr>\n",
       "      <th>0</th>\n",
       "      <td>Afghanistan</td>\n",
       "      <td>2020-01-22</td>\n",
       "      <td>0</td>\n",
       "      <td>0</td>\n",
       "      <td>0.0</td>\n",
       "    </tr>\n",
       "    <tr>\n",
       "      <th>1</th>\n",
       "      <td>Afghanistan</td>\n",
       "      <td>2020-01-23</td>\n",
       "      <td>0</td>\n",
       "      <td>0</td>\n",
       "      <td>0.0</td>\n",
       "    </tr>\n",
       "    <tr>\n",
       "      <th>2</th>\n",
       "      <td>Afghanistan</td>\n",
       "      <td>2020-01-24</td>\n",
       "      <td>0</td>\n",
       "      <td>0</td>\n",
       "      <td>0.0</td>\n",
       "    </tr>\n",
       "    <tr>\n",
       "      <th>3</th>\n",
       "      <td>Afghanistan</td>\n",
       "      <td>2020-01-25</td>\n",
       "      <td>0</td>\n",
       "      <td>0</td>\n",
       "      <td>0.0</td>\n",
       "    </tr>\n",
       "    <tr>\n",
       "      <th>4</th>\n",
       "      <td>Afghanistan</td>\n",
       "      <td>2020-01-26</td>\n",
       "      <td>0</td>\n",
       "      <td>0</td>\n",
       "      <td>0.0</td>\n",
       "    </tr>\n",
       "  </tbody>\n",
       "</table>\n",
       "</div>"
      ],
      "text/plain": [
       "  Country/Region        Date  Confirmed  Death  Recovered\n",
       "0    Afghanistan  2020-01-22          0      0        0.0\n",
       "1    Afghanistan  2020-01-23          0      0        0.0\n",
       "2    Afghanistan  2020-01-24          0      0        0.0\n",
       "3    Afghanistan  2020-01-25          0      0        0.0\n",
       "4    Afghanistan  2020-01-26          0      0        0.0"
      ]
     },
     "execution_count": 2,
     "metadata": {},
     "output_type": "execute_result"
    }
   ],
   "source": [
    "def merge_data(path, file_list):\n",
    "    \n",
    "    df_list = []\n",
    "    for file in file_list: \n",
    "        df_list.append( pd.read_csv( path + file , index_col=None, header=0) )\n",
    "        \n",
    "    df = pd.DataFrame()\n",
    "    date_cols = df_list[0].columns[  4:  ]\n",
    "\n",
    "    # for date_col in date_cols[:]: \n",
    "    for i in range(len(date_cols)) : \n",
    "        col_index = df_list[0].columns[ [1 ] ].append( date_cols[[i]] ) \n",
    "        df_temp = df_list[0][col_index].copy() \n",
    "        df_temp[ 'Death'] = df_list[1][date_cols[[i]] ]  \n",
    "        df_temp[ 'Recovered'] = df_list[2][date_cols[[i]] ]  # works but gives warning  \n",
    "        df_temp['Date'] = date_cols[i]\n",
    "        df_temp = df_temp.rename( columns={date_cols[i]:'Confirmed'})    \n",
    "        df = df.append(df_temp)     \n",
    "        \n",
    "    df = df.groupby(['Country/Region','Date']).sum().reset_index()\n",
    "    \n",
    "    df['Date'] = pd.to_datetime( df['Date'] ).dt.date \n",
    "        \n",
    "    df = df.sort_values( by=['Country/Region','Date']).reset_index(drop=True) \n",
    "\n",
    "    return df\n",
    "\n",
    "path = r'D:\\Code_projects\\Covid19_analysis\\COVID-19\\csse_covid_19_data\\csse_covid_19_time_series'\n",
    "file_list = ['\\\\time_series_covid19_confirmed_global.csv',\n",
    "         '\\\\time_series_covid19_deaths_global.csv',\n",
    "         '\\\\time_series_covid19_recovered_global.csv']  \n",
    "\n",
    "df_country = jp.merge_data(path, file_list) \n",
    "\n",
    "df_country.head()"
   ]
  },
  {
   "cell_type": "markdown",
   "metadata": {},
   "source": [
    "# Test df_country, coming out of merge_data"
   ]
  },
  {
   "cell_type": "code",
   "execution_count": 3,
   "metadata": {},
   "outputs": [
    {
     "data": {
      "text/html": [
       "<div>\n",
       "<style scoped>\n",
       "    .dataframe tbody tr th:only-of-type {\n",
       "        vertical-align: middle;\n",
       "    }\n",
       "\n",
       "    .dataframe tbody tr th {\n",
       "        vertical-align: top;\n",
       "    }\n",
       "\n",
       "    .dataframe thead th {\n",
       "        text-align: right;\n",
       "    }\n",
       "</style>\n",
       "<table border=\"1\" class=\"dataframe\">\n",
       "  <thead>\n",
       "    <tr style=\"text-align: right;\">\n",
       "      <th></th>\n",
       "      <th>Confirmed</th>\n",
       "      <th>Death</th>\n",
       "      <th>Recovered</th>\n",
       "    </tr>\n",
       "    <tr>\n",
       "      <th>Date</th>\n",
       "      <th></th>\n",
       "      <th></th>\n",
       "      <th></th>\n",
       "    </tr>\n",
       "  </thead>\n",
       "  <tbody>\n",
       "    <tr>\n",
       "      <th>2020-03-25</th>\n",
       "      <td>467653</td>\n",
       "      <td>21181</td>\n",
       "      <td>113787.0</td>\n",
       "    </tr>\n",
       "    <tr>\n",
       "      <th>2020-03-26</th>\n",
       "      <td>529591</td>\n",
       "      <td>23970</td>\n",
       "      <td>122150.0</td>\n",
       "    </tr>\n",
       "    <tr>\n",
       "      <th>2020-03-27</th>\n",
       "      <td>593291</td>\n",
       "      <td>27198</td>\n",
       "      <td>130915.0</td>\n",
       "    </tr>\n",
       "    <tr>\n",
       "      <th>2020-03-28</th>\n",
       "      <td>660706</td>\n",
       "      <td>30652</td>\n",
       "      <td>139415.0</td>\n",
       "    </tr>\n",
       "    <tr>\n",
       "      <th>2020-03-29</th>\n",
       "      <td>720117</td>\n",
       "      <td>33925</td>\n",
       "      <td>149082.0</td>\n",
       "    </tr>\n",
       "  </tbody>\n",
       "</table>\n",
       "</div>"
      ],
      "text/plain": [
       "            Confirmed  Death  Recovered\n",
       "Date                                   \n",
       "2020-03-25     467653  21181   113787.0\n",
       "2020-03-26     529591  23970   122150.0\n",
       "2020-03-27     593291  27198   130915.0\n",
       "2020-03-28     660706  30652   139415.0\n",
       "2020-03-29     720117  33925   149082.0"
      ]
     },
     "execution_count": 3,
     "metadata": {},
     "output_type": "execute_result"
    }
   ],
   "source": [
    "df_country.groupby('Date').sum()[-5:]"
   ]
  },
  {
   "cell_type": "code",
   "execution_count": null,
   "metadata": {},
   "outputs": [],
   "source": [
    " "
   ]
  }
 ],
 "metadata": {
  "kernelspec": {
   "display_name": "Python 3",
   "language": "python",
   "name": "python3"
  },
  "language_info": {
   "codemirror_mode": {
    "name": "ipython",
    "version": 3
   },
   "file_extension": ".py",
   "mimetype": "text/x-python",
   "name": "python",
   "nbconvert_exporter": "python",
   "pygments_lexer": "ipython3",
   "version": "3.7.1"
  }
 },
 "nbformat": 4,
 "nbformat_minor": 2
}
