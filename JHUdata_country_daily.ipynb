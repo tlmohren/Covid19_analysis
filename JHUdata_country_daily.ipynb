{
 "cells": [
  {
   "cell_type": "markdown",
   "metadata": {},
   "source": [
    "# JHU covid-19 data analysis\n",
    "Create plots with daily increase per country, inspired by Tomas Pueyo article"
   ]
  },
  {
   "cell_type": "code",
   "execution_count": 1,
   "metadata": {},
   "outputs": [],
   "source": [
    "import pandas as pd\n",
    "import matplotlib.pyplot as plt \n",
    "# import matplotlib.ticker as mticker\n",
    "import matplotlib.dates as mdates  \n",
    "import numpy as np\n",
    "from datetime import timedelta\n",
    "from matplotlib.dates import date2num    \n",
    "import matplotlib.dates as dt    \n",
    "\n",
    "import JHUprocessing as jp\n",
    "# from JHUprocessing import *\n",
    "\n",
    " \n",
    "# from figure_settings import *"
   ]
  },
  {
   "cell_type": "markdown",
   "metadata": {},
   "source": [
    "# general parameters "
   ]
  },
  {
   "cell_type": "code",
   "execution_count": 2,
   "metadata": {},
   "outputs": [],
   "source": [
    "full_w = (12,7)\n",
    "half_w = (6,4)\n",
    "\n",
    "# # rc\n",
    "# plt.rcParams[\"font.family\"] = \"Times New Roman\"\n",
    "# mpl.rcParams['text.usetex'] = True\n",
    "# mpl.rcParams['text.latex.preamble'] = [r'\\usepackage{amsmath}'] #for \\text command\n",
    "\n",
    "# plt.style.use('latex_scientificPaperStyle.mplstyle')\n",
    "# dir(rcParams[\"Font.family\"])"
   ]
  },
  {
   "cell_type": "markdown",
   "metadata": {},
   "source": [
    "# function to merge csv's "
   ]
  },
  {
   "cell_type": "code",
   "execution_count": 3,
   "metadata": {},
   "outputs": [],
   "source": [
    "path = r'D:\\Code_projects\\Covid19_analysis\\COVID-19\\csse_covid_19_data\\csse_covid_19_time_series'\n",
    "file_list = ['\\\\time_series_covid19_confirmed_global.csv',\n",
    "         '\\\\time_series_covid19_deaths_global.csv',\n",
    "         '\\\\time_series_covid19_recovered_global.csv'] \n",
    "\n",
    "df_country = jp.merge_countrydf(path, file_list)  "
   ]
  },
  {
   "cell_type": "markdown",
   "metadata": {},
   "source": [
    "# import and add measures"
   ]
  },
  {
   "cell_type": "code",
   "execution_count": 4,
   "metadata": {},
   "outputs": [],
   "source": [
    "# load csv file of measures per country \n",
    "df_m = pd.read_csv( \"measures_per_country.csv\", index_col=None ) \n",
    "df_m['Date'] = pd.to_datetime( df_m['Date'] ).dt.date \n",
    "\n",
    "# add measures to additional column\n",
    "for i,row in df_m.iterrows(): \n",
    "    country = row['Country/Region']\n",
    "    date = row['Date']\n",
    "    bool_loc = (df_country['Country/Region'] == country) & (df_country['Date'] == date) \n",
    "    df_country.loc[bool_loc,'Measure'] = row['Measure']"
   ]
  },
  {
   "cell_type": "markdown",
   "metadata": {},
   "source": [
    "# find daily cases (daily delta)"
   ]
  },
  {
   "cell_type": "code",
   "execution_count": null,
   "metadata": {},
   "outputs": [],
   "source": [
    "df_country['Daily Confirmed'] = np.nan\n",
    "df_country['Daily Death'] = np.nan\n",
    "\n",
    "days = df_country['Date'].unique()  \n",
    "\n",
    "bool_day0 = df_country['Date'] == days[0]\n",
    "df_country.loc[bool_day0,'Daily Confirmed'] = 0\n",
    "df_country.loc[bool_day0,'Daily Death'] = 0\n",
    " \n",
    "for day in days[1:]:     \n",
    "    \n",
    "    bool_day = df_country['Date'] == day \n",
    "    bool_prior = df_country['Date'] == ( day- timedelta(days=1))  \n",
    "\n",
    "    delta = df_country[bool_day]['Confirmed'].values - df_country[bool_prior]['Confirmed'].values\n",
    "    df_country.loc[bool_day,'Daily Confirmed'] = delta \n",
    "    \n",
    "    \n",
    "    delta = df_country[bool_day]['Death'].values - df_country[bool_prior]['Death'].values\n",
    "    df_country.loc[bool_day,'Daily Death'] = delta \n",
    " "
   ]
  },
  {
   "cell_type": "markdown",
   "metadata": {},
   "source": [
    "# plot daily "
   ]
  },
  {
   "cell_type": "code",
   "execution_count": null,
   "metadata": {},
   "outputs": [],
   "source": [
    "def smooth(x,window_len=11,window='hanning'):\n",
    "  \n",
    "    # ['flat', 'hanning', 'hamming', 'bartlett', 'blackman']\n",
    "    s=np.r_[x[window_len-1:0:-1],x,x[-2:-window_len-1:-1]]\n",
    "    #print(len(s))\n",
    "    if window == 'flat': #moving average\n",
    "        w=np.ones(window_len,'d')\n",
    "    else:\n",
    "        w=eval('np.'+window+'(window_len)')\n",
    "\n",
    "    y=np.convolve(w/w.sum(),s,mode='valid')\n",
    "    return y  "
   ]
  },
  {
   "cell_type": "code",
   "execution_count": null,
   "metadata": {},
   "outputs": [],
   "source": [
    "def plot_daily( ax_p, date_col, data_series, measures = pd.DataFrame()):\n",
    "    \n",
    "    # plotting parameters \n",
    "    bar_alpha = .15\n",
    "    fill_alpha = .2\n",
    "#     bar_col = '#2b83ba'\n",
    "#     fill_col ='#e66101'\n",
    "    \n",
    "    bar_col = 'k'#np.array([ 1,1,1] )*0.5\n",
    "    fill_col = 'r'\n",
    "    bar_line = 'k'\n",
    "    fill_line = 'r'\n",
    "#     #ef8a62\n",
    "#     bar_col = '#67a9cf'\n",
    "#     fill_col = '#ef8a62'\n",
    "#     fill_col = '#BF3F3F'\n",
    "    \n",
    "    \n",
    "#     bar_col =  '#af8dc3'\n",
    "# #f7f7f7\n",
    "#     fill_col = '#7fbf7b'\n",
    "\n",
    "\n",
    "    filter_w = 9\n",
    "    filter_w_delay = 13\n",
    "\n",
    "    case_delay = 12\n",
    "    death_delay = 12\n",
    "\n",
    "    edge_cut = int( np.floor(filter_w/2) ) \n",
    "    edge_cut_delay = int( np.floor(filter_w_delay/2) )  \n",
    "    \n",
    "    weeks = mdates.DayLocator(bymonthday=[1,11,21], interval=1, tz=None)\n",
    "    months_fmt = mdates.DateFormatter('%m-%d') \n",
    "    #------------------------------------------------------\n",
    " \n",
    "    date_col = date_col.apply(date2num)\n",
    "    \n",
    "    \n",
    "    z_bar= 3\n",
    "    z_fill = 1\n",
    "    # smoothen data\n",
    "    plot_data =  data_series.values  \n",
    "    plot_data_fake = np.append( plot_data, plot_data[-1]*np.ones((2)) )\n",
    "    plot_smooth = smooth( plot_data_fake ,filter_w,'hamming' )[edge_cut:-edge_cut-2]\n",
    "    plot_smooth_delay = smooth( plot_data_fake ,filter_w_delay,'hamming' )[edge_cut_delay:-edge_cut_delay-2]\n",
    "    \n",
    "    # plot data\n",
    "    ax_p.bar( date_col,  plot_data   ,\n",
    "             alpha = bar_alpha , color=bar_col, \n",
    "                label = 'Reported cases', zorder = z_bar) \n",
    "    ax_p.plot( date_col, plot_smooth, color=bar_line, zorder = z_bar)\n",
    "    \n",
    "    ax_p.plot( date_col.iloc[0:-case_delay] , plot_smooth_delay[case_delay:] , color=fill_line, zorder = z_fill)\n",
    "    ax_p.fill_between( date_col.iloc[0:-case_delay] , 0, plot_smooth_delay[case_delay:] ,\n",
    "                      alpha= fill_alpha, color=fill_col, \n",
    "                      label='12-day delay', zorder = z_fill\n",
    "                    )\n",
    "\n",
    "    # axis modify\n",
    "    ax_p.xaxis_date()\n",
    "    ax_p.xaxis.set_major_locator(weeks)\n",
    "    ax_p.xaxis.set_major_formatter(months_fmt)  \n",
    " \n",
    "    cmax = plot_smooth.max()*1.2  \n",
    "    ax_p.set_ylim([0,cmax])  \n",
    "    \n",
    "    \n",
    "    arrowprops = dict(\n",
    "    arrowstyle = \"->\"    )\n",
    "\n",
    "\n",
    "    # annotate\n",
    "    counter = 0\n",
    "    for i,row in measures.iterrows(): \n",
    "        ax_p.plot( [row['Date'],row['Date']] ,[0,cmax],'--', alpha = 0.5,color='k',linewidth=1,zorder  = 6)  \n",
    "        chinese = ['Hubei','China'] \n",
    "        if any(c in measures.iloc[0,:]['Measure'] for c in chinese):\n",
    "            ax_p.annotate( row['Measure'], (row[\"Date\"],cmax*(0.94-0.1*counter)) ,\n",
    "                              xytext = ( days[-1],cmax*(0.9-0.1*counter)) ,\n",
    "                             rotation = 0, va='bottom',ha='right',fontsize=10, arrowprops=arrowprops)   \n",
    "        else:\n",
    "            ax_p.annotate( row['Measure'], (row[\"Date\"],cmax*(0.94-0.1*counter)) ,\n",
    "                              xytext = ( days[0],cmax*(0.9-0.1*counter)) ,\n",
    "                             rotation = 0, va='bottom',ha='left',fontsize=10, arrowprops=arrowprops)    \n",
    "        counter = counter+1 \n",
    "    return ax_p\n",
    " "
   ]
  },
  {
   "cell_type": "markdown",
   "metadata": {},
   "source": [
    "# plot world cases "
   ]
  },
  {
   "cell_type": "code",
   "execution_count": null,
   "metadata": {},
   "outputs": [
    {
     "data": {
      "text/plain": [
       "<matplotlib.legend.Legend at 0xfc3c237588>"
      ]
     },
     "execution_count": 8,
     "metadata": {},
     "output_type": "execute_result"
    },
    {
     "data": {
      "image/png": "[encoded data removed]",
      "text/plain": [
       "<Figure size 864x288 with 2 Axes>"
      ]
     },
     "metadata": {
      "needs_background": "light"
     },
     "output_type": "display_data"
    }
   ],
   "source": [
    "# .apply(date2num)  \n",
    "# make plot dataframe\n",
    "df_pl = df_country.groupby( 'Date').sum() \n",
    "df_pl['Date'] = df_pl.index  \n",
    "\n",
    "fig, ax = plt.subplots(1 ,2,figsize=(full_w[0],4))\n",
    "\n",
    "ax[0] = plot_daily( ax[0] , df_pl['Date'], df_pl['Daily Confirmed'] )\n",
    "ax[1] = plot_daily( ax[1] , df_pl['Date'], df_pl['Daily Death'] )\n",
    "\n",
    "ax[0].set_title('Worldwide Daily Confirmed')\n",
    "ax[1].set_title('Worldwide Daily Deaths')  \n",
    "ax[0].legend( )"
   ]
  },
  {
   "cell_type": "markdown",
   "metadata": {},
   "source": [
    "# Sort countries"
   ]
  },
  {
   "cell_type": "code",
   "execution_count": null,
   "metadata": {},
   "outputs": [
    {
     "data": {
      "text/html": [
       "<div>\n",
       "<style scoped>\n",
       "    .dataframe tbody tr th:only-of-type {\n",
       "        vertical-align: middle;\n",
       "    }\n",
       "\n",
       "    .dataframe tbody tr th {\n",
       "        vertical-align: top;\n",
       "    }\n",
       "\n",
       "    .dataframe thead th {\n",
       "        text-align: right;\n",
       "    }\n",
       "</style>\n",
       "<table border=\"1\" class=\"dataframe\">\n",
       "  <thead>\n",
       "    <tr style=\"text-align: right;\">\n",
       "      <th></th>\n",
       "      <th>Country/Region</th>\n",
       "      <th>Date</th>\n",
       "      <th>Confirmed</th>\n",
       "      <th>Death</th>\n",
       "      <th>Recovered</th>\n",
       "      <th>Measure</th>\n",
       "      <th>Daily Confirmed</th>\n",
       "      <th>Daily Death</th>\n",
       "    </tr>\n",
       "  </thead>\n",
       "  <tbody>\n",
       "    <tr>\n",
       "      <th>13415</th>\n",
       "      <td>US</td>\n",
       "      <td>2020-04-08</td>\n",
       "      <td>429052</td>\n",
       "      <td>14695</td>\n",
       "      <td>23559.0</td>\n",
       "      <td>NaN</td>\n",
       "      <td>32829.0</td>\n",
       "      <td>1973.0</td>\n",
       "    </tr>\n",
       "    <tr>\n",
       "      <th>12245</th>\n",
       "      <td>Spain</td>\n",
       "      <td>2020-04-08</td>\n",
       "      <td>148220</td>\n",
       "      <td>14792</td>\n",
       "      <td>2.0</td>\n",
       "      <td>NaN</td>\n",
       "      <td>6278.0</td>\n",
       "      <td>747.0</td>\n",
       "    </tr>\n",
       "    <tr>\n",
       "      <th>6629</th>\n",
       "      <td>Italy</td>\n",
       "      <td>2020-04-08</td>\n",
       "      <td>139422</td>\n",
       "      <td>17669</td>\n",
       "      <td>6776.0</td>\n",
       "      <td>NaN</td>\n",
       "      <td>3836.0</td>\n",
       "      <td>542.0</td>\n",
       "    </tr>\n",
       "    <tr>\n",
       "      <th>4835</th>\n",
       "      <td>France</td>\n",
       "      <td>2020-04-08</td>\n",
       "      <td>113959</td>\n",
       "      <td>10887</td>\n",
       "      <td>67934.0</td>\n",
       "      <td>NaN</td>\n",
       "      <td>3894.0</td>\n",
       "      <td>544.0</td>\n",
       "    </tr>\n",
       "    <tr>\n",
       "      <th>5147</th>\n",
       "      <td>Germany</td>\n",
       "      <td>2020-04-08</td>\n",
       "      <td>113296</td>\n",
       "      <td>2349</td>\n",
       "      <td>0.0</td>\n",
       "      <td>NaN</td>\n",
       "      <td>5633.0</td>\n",
       "      <td>333.0</td>\n",
       "    </tr>\n",
       "  </tbody>\n",
       "</table>\n",
       "</div>"
      ],
      "text/plain": [
       "      Country/Region        Date  Confirmed  Death  Recovered Measure  \\\n",
       "13415             US  2020-04-08     429052  14695    23559.0     NaN   \n",
       "12245          Spain  2020-04-08     148220  14792        2.0     NaN   \n",
       "6629           Italy  2020-04-08     139422  17669     6776.0     NaN   \n",
       "4835          France  2020-04-08     113959  10887    67934.0     NaN   \n",
       "5147         Germany  2020-04-08     113296   2349        0.0     NaN   \n",
       "\n",
       "       Daily Confirmed  Daily Death  \n",
       "13415          32829.0       1973.0  \n",
       "12245           6278.0        747.0  \n",
       "6629            3836.0        542.0  \n",
       "4835            3894.0        544.0  \n",
       "5147            5633.0        333.0  "
      ]
     },
     "execution_count": 9,
     "metadata": {},
     "output_type": "execute_result"
    }
   ],
   "source": [
    "# sort countries by confirmed cases on last date\n",
    "bool_last = df_country['Date'] == df_country['Date'].max()\n",
    "sorted_countries = df_country[bool_last].sort_values(by=['Confirmed'], ascending=False )    \n",
    "sorted_countries.head(5)  "
   ]
  },
  {
   "cell_type": "markdown",
   "metadata": {},
   "source": [
    "# plot top countries "
   ]
  },
  {
   "cell_type": "code",
   "execution_count": null,
   "metadata": {
    "scrolled": false
   },
   "outputs": [],
   "source": [
    "n_countries = 12\n",
    "top_countries = sorted_countries['Country/Region'][:n_countries].tolist()\n",
    "\n",
    "dates = df_pl['Date' ].unique() \n",
    "fig, ax = plt.subplots(n_countries ,2,figsize=( full_w[0],n_countries*3))\n",
    " \n",
    "for i,country in enumerate( top_countries ):\n",
    "    df_pl = df_country[ df_country['Country/Region'] == country]\n",
    "#     df_pl['Date'] = df_pl.index  \n",
    "#     df_pl['Date'] = df_pl['Date'].apply(date2num)\n",
    "    \n",
    "    bool_measure = df_pl['Measure'].notnull() \n",
    "    measures= df_pl.loc[bool_measure,['Measure','Date']] \n",
    "     \n",
    "    plot_daily( ax[i,0] , df_pl['Date'], df_pl['Daily Confirmed'], measures)\n",
    "    plot_daily( ax[i,1] , df_pl['Date'], df_pl['Daily Death'],measures)\n",
    " \n",
    "    # add comparison lines  \n",
    "    ax[i,0].plot( dates[[0,len(days)-1]], [1000,1000],'--',color='k', alpha = 0.5 )\n",
    "    ax[i,1].plot( dates[[0,len(days)-1]], [25,25],'--',color='k', alpha = 0.5 ) \n",
    "    ax[i,0].set_ylabel( country )\n",
    "      \n",
    "ax[0,0].set_title('Daily Confirmed')\n",
    "ax[0,1].set_title('Daily Deaths') \n",
    "\n",
    "# reverse the order\n",
    "# handles, labels = ax[0,0].get_legend_handles_labels()\n",
    "# ax[0,0].legend(handles[::-1], labels[::-1])\n",
    "# ax[0,0].legend(  bbox_to_anchor=(0.42, .7))  \n",
    "ax[0,0].legend(  ax[0,0].get_legend_handles_labels()[0][::-1] , \n",
    "               ax[0,0].get_legend_handles_labels()[1] [::-1],\n",
    "               bbox_to_anchor=(0.42, .7))\n",
    "\n",
    "\n",
    "ax[0,0].annotate('1000 cases',[dates[0],1000*1.5])\n",
    "ax[0,1].annotate('25 deaths',[dates[0],25*1.5])\n",
    "\n",
    "\n",
    "ax[0,0].annotate('Updated '+str( df_country['Date'].iloc[-1]), \n",
    "            [dt.date2num( dates[0] ) ,df_country['Daily Confirmed'].max()*(0.94-0.12)], \n",
    "                 color=[.3,.3,.3], style='italic',fontsize=8)\n",
    "\n",
    "\n",
    "\n",
    "\n",
    "# # # # # save fig  -----------------------------------------------------------------------\n",
    "fig_name= 'covid_country_dailycases'\n",
    "save_fig = True\n",
    "if save_fig: \n",
    "    plt.savefig('./figs/' + fig_name + '.png',\n",
    "            format='png', dpi=300,\n",
    "            transparent=  True,             \n",
    "            bbox_inches = 'tight', pad_inches = 0,\n",
    "            )  "
   ]
  },
  {
   "cell_type": "code",
   "execution_count": null,
   "metadata": {},
   "outputs": [],
   "source": [
    " df_country['Daily Confirmed'].max() "
   ]
  },
  {
   "cell_type": "code",
   "execution_count": null,
   "metadata": {},
   "outputs": [],
   "source": [
    " "
   ]
  },
  {
   "cell_type": "code",
   "execution_count": null,
   "metadata": {},
   "outputs": [],
   "source": []
  }
 ],
 "metadata": {
  "kernelspec": {
   "display_name": "Python 3",
   "language": "python",
   "name": "python3"
  },
  "language_info": {
   "codemirror_mode": {
    "name": "ipython",
    "version": 3
   },
   "file_extension": ".py",
   "mimetype": "text/x-python",
   "name": "python",
   "nbconvert_exporter": "python",
   "pygments_lexer": "ipython3",
   "version": "3.7.1"
  }
 },
 "nbformat": 4,
 "nbformat_minor": 2
}
